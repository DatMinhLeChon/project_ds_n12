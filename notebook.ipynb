{
  "cells": [
    {
      "cell_type": "code",
      "execution_count": 90,
      "metadata": {
        "colab": {
          "base_uri": "https://localhost:8080/",
          "height": 198
        },
        "id": "8e1amLvFH30n",
        "outputId": "78def49a-c283-480a-bfae-0cd981b0476c"
      },
      "outputs": [],
      "source": [
        "import pickle \n",
        "import pandas as pd\n",
        "import os \n",
        "\n",
        "sheet_csv = r\"data/df_merged.csv\"\n",
        "sheet_txt = r\"data/df_merged.txt\"\n",
        "pkl_path = r\"data/df_merged.pkl\"\n",
        "sheet_csv_clean = r\"data/df_merged_clean.csv\""
      ]
    },
    {
      "cell_type": "code",
      "execution_count": null,
      "metadata": {},
      "outputs": [],
      "source": []
    },
    {
      "cell_type": "code",
      "execution_count": null,
      "metadata": {},
      "outputs": [],
      "source": [
        "\n",
        "df = pd.read_pickle(pkl_path)\n",
        "for item in df:\n",
        "    item.to_csv(sheet_csv)\n",
        "\n",
        "with open(sheet_txt, 'a') as f:\n",
        "    for item in df:\n",
        "        df_item = item.to_string(header= True, index=False)\n",
        "        f.write(df_item)\n",
        "\n"
      ]
    },
    {
      "attachments": {},
      "cell_type": "markdown",
      "metadata": {
        "id": "yHYbb61jh-Vo"
      },
      "source": [
        "# Preprocessing\n"
      ]
    },
    {
      "cell_type": "code",
      "execution_count": 93,
      "metadata": {},
      "outputs": [],
      "source": [
        "# đếm số lượng nan data trong khoảng của cột dử liệu\n",
        "def numNan(x, dataframe, start, end):\n",
        "    dem = 0\n",
        "    for index in range(start, end):\n",
        "        if dataframe[index] == x:\n",
        "            dem+=1\n",
        "    return dem"
      ]
    },
    {
      "cell_type": "code",
      "execution_count": 57,
      "metadata": {},
      "outputs": [
        {
          "name": "stdout",
          "output_type": "stream",
          "text": [
            "['mua_gia_1ACB' 'mua_gia_1BCM' 'mua_gia_1BID' 'mua_gia_1BVH'\n",
            " 'mua_gia_1CTG' 'mua_gia_1FPT' 'mua_gia_1GAS' 'mua_gia_1GVR'\n",
            " 'mua_gia_1HDB' 'mua_gia_1HPG' 'mua_gia_1MBB' 'mua_gia_1MSN'\n",
            " 'mua_gia_1MWG' 'mua_gia_1NVL' 'mua_gia_1PDR' 'mua_gia_1PLX'\n",
            " 'mua_gia_1POW' 'mua_gia_1SAB' 'mua_gia_1SSI' 'mua_gia_1STB'\n",
            " 'mua_gia_1TCB' 'mua_gia_1TPB' 'mua_gia_1VCB' 'mua_gia_1VHM'\n",
            " 'mua_gia_1VIB' 'mua_gia_1VIC' 'mua_gia_1VJC' 'mua_gia_1VNM'\n",
            " 'mua_gia_1VPB' 'mua_gia_1VRE' 'ban_gia_1ACB' 'ban_gia_1BCM'\n",
            " 'ban_gia_1BID' 'ban_gia_1BVH' 'ban_gia_1CTG' 'ban_gia_1FPT'\n",
            " 'ban_gia_1GAS' 'ban_gia_1GVR' 'ban_gia_1HDB' 'ban_gia_1HPG'\n",
            " 'ban_gia_1MBB' 'ban_gia_1MSN' 'ban_gia_1MWG' 'ban_gia_1NVL'\n",
            " 'ban_gia_1PDR' 'ban_gia_1PLX' 'ban_gia_1POW' 'ban_gia_1SAB'\n",
            " 'ban_gia_1SSI' 'ban_gia_1STB' 'ban_gia_1TCB' 'ban_gia_1TPB'\n",
            " 'ban_gia_1VCB' 'ban_gia_1VHM' 'ban_gia_1VIB' 'ban_gia_1VIC'\n",
            " 'ban_gia_1VJC' 'ban_gia_1VNM' 'ban_gia_1VPB' 'ban_gia_1VRE' 'Gia KL'\n",
            " 'mua_kl_1ACB' 'mua_kl_1BCM' 'mua_kl_1BID' 'mua_kl_1BVH' 'mua_kl_1CTG'\n",
            " 'mua_kl_1FPT' 'mua_kl_1GAS' 'mua_kl_1GVR' 'mua_kl_1HDB' 'mua_kl_1HPG'\n",
            " 'mua_kl_1MBB' 'mua_kl_1MSN' 'mua_kl_1MWG' 'mua_kl_1NVL' 'mua_kl_1PDR'\n",
            " 'mua_kl_1PLX' 'mua_kl_1POW' 'mua_kl_1SAB' 'mua_kl_1SSI' 'mua_kl_1STB'\n",
            " 'mua_kl_1TCB' 'mua_kl_1TPB' 'mua_kl_1VCB' 'mua_kl_1VHM' 'mua_kl_1VIB'\n",
            " 'mua_kl_1VIC' 'mua_kl_1VJC' 'mua_kl_1VNM' 'mua_kl_1VPB' 'mua_kl_1VRE'\n",
            " 'ban_kl_1ACB' 'ban_kl_1BCM' 'ban_kl_1BID' 'ban_kl_1BVH' 'ban_kl_1CTG'\n",
            " 'ban_kl_1FPT' 'ban_kl_1GAS' 'ban_kl_1GVR' 'ban_kl_1HDB' 'ban_kl_1HPG'\n",
            " 'ban_kl_1MBB' 'ban_kl_1MSN' 'ban_kl_1MWG' 'ban_kl_1NVL' 'ban_kl_1PDR'\n",
            " 'ban_kl_1PLX' 'ban_kl_1POW' 'ban_kl_1SAB' 'ban_kl_1SSI' 'ban_kl_1STB'\n",
            " 'ban_kl_1TCB' 'ban_kl_1TPB' 'ban_kl_1VCB' 'ban_kl_1VHM' 'ban_kl_1VIB'\n",
            " 'ban_kl_1VIC' 'ban_kl_1VJC' 'ban_kl_1VNM' 'ban_kl_1VPB' 'ban_kl_1VRE'\n",
            " 'mua_kl_2ACB' 'mua_kl_2BCM' 'mua_kl_2BID' 'mua_kl_2BVH' 'mua_kl_2CTG'\n",
            " 'mua_kl_2FPT' 'mua_kl_2GAS' 'mua_kl_2GVR' 'mua_kl_2HDB' 'mua_kl_2HPG'\n",
            " 'mua_kl_2MBB' 'mua_kl_2MSN' 'mua_kl_2MWG' 'mua_kl_2NVL' 'mua_kl_2PDR'\n",
            " 'mua_kl_2PLX' 'mua_kl_2POW' 'mua_kl_2SAB' 'mua_kl_2SSI' 'mua_kl_2STB'\n",
            " 'mua_kl_2TCB' 'mua_kl_2TPB' 'mua_kl_2VCB' 'mua_kl_2VHM' 'mua_kl_2VIB'\n",
            " 'mua_kl_2VIC' 'mua_kl_2VJC' 'mua_kl_2VNM' 'mua_kl_2VPB' 'mua_kl_2VRE'\n",
            " 'ban_kl_2ACB' 'ban_kl_2BCM' 'ban_kl_2BID' 'ban_kl_2BVH' 'ban_kl_2CTG'\n",
            " 'ban_kl_2FPT' 'ban_kl_2GAS' 'ban_kl_2GVR' 'ban_kl_2HDB' 'ban_kl_2HPG'\n",
            " 'ban_kl_2MBB' 'ban_kl_2MSN' 'ban_kl_2MWG' 'ban_kl_2NVL' 'ban_kl_2PDR'\n",
            " 'ban_kl_2PLX' 'ban_kl_2POW' 'ban_kl_2SAB' 'ban_kl_2SSI' 'ban_kl_2STB'\n",
            " 'ban_kl_2TCB' 'ban_kl_2TPB' 'ban_kl_2VCB' 'ban_kl_2VHM' 'ban_kl_2VIB'\n",
            " 'ban_kl_2VIC' 'ban_kl_2VJC' 'ban_kl_2VNM' 'ban_kl_2VPB' 'ban_kl_2VRE']\n",
            "1335\n"
          ]
        }
      ],
      "source": [
        "train = pd.read_csv(sheet_csv, header = 0, index_col=0)\n",
        "row, col = train.shape\n",
        "index_table = train.columns\n",
        "print(index_table.values)\n",
        "print\n"
      ]
    },
    {
      "cell_type": "code",
      "execution_count": 94,
      "metadata": {},
      "outputs": [],
      "source": [
        "# fill missing data bằng dữ liệu trung bình dịch chuyển\n",
        "for item in index_table.values:\n",
        "    for index in range(row):\n",
        "        if index >=5 and index <1330:\n",
        "            tb = sum(train[item][index2] for index2 in range(index-5, index+5))/(11- numNan(0,train[item],index-5, index+4))\n",
        "        elif index <= 5 :\n",
        "            tb = sum(train[item][index2] for index2 in range(0, 10))/(11- numNan(0,train[item],0, 10))\n",
        "        else:\n",
        "            tb = sum(train[item][index2] for index2 in range(1325, 1335))/(11- numNan(0,train[item],1325, 1335))\n",
        "        if train[item][index] == 0:\n",
        "            train[item][index] = tb\n",
        "train.to_csv(sheet_csv_clean)\n",
        "\n"
      ]
    },
    {
      "attachments": {},
      "cell_type": "markdown",
      "metadata": {
        "id": "sJgaM4xrdRaO"
      },
      "source": [
        "# PCA"
      ]
    },
    {
      "attachments": {},
      "cell_type": "markdown",
      "metadata": {
        "id": "CLAwDhh1JQN7"
      },
      "source": [
        "# Cluster"
      ]
    }
  ],
  "metadata": {
    "colab": {
      "provenance": []
    },
    "kernelspec": {
      "display_name": "Python 3",
      "name": "python3"
    },
    "language_info": {
      "codemirror_mode": {
        "name": "ipython",
        "version": 3
      },
      "file_extension": ".py",
      "mimetype": "text/x-python",
      "name": "python",
      "nbconvert_exporter": "python",
      "pygments_lexer": "ipython3",
      "version": "3.10.9"
    }
  },
  "nbformat": 4,
  "nbformat_minor": 0
}
