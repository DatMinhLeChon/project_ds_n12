{
  "cells": [
    {
      "attachments": {},
      "cell_type": "markdown",
      "metadata": {},
      "source": [
        "# Thư viện và path data"
      ]
    },
    {
      "cell_type": "code",
      "execution_count": 37,
      "metadata": {
        "colab": {
          "base_uri": "https://localhost:8080/",
          "height": 198
        },
        "id": "8e1amLvFH30n",
        "outputId": "78def49a-c283-480a-bfae-0cd981b0476c"
      },
      "outputs": [],
      "source": [
        "import pickle \n",
        "import pandas as pd\n",
        "import os \n",
        "\n",
        "sheet_csv = r\"data/df_merged.csv\"\n",
        "sheet_txt = r\"data/df_merged.txt\"\n",
        "pkl_path = r\"data/df_merged.pkl\"\n",
        "new_pkl_path = r\"data/new_df_merged.pkl\"\n",
        "sheet_csv_clean = r\"data/df_merged_clean.csv\""
      ]
    },
    {
      "cell_type": "code",
      "execution_count": 26,
      "metadata": {},
      "outputs": [],
      "source": [
        "df = pd.read_pickle(pkl_path)\n",
        "df_final = pd.DataFrame()\n",
        "item= df[0]\n",
        "df_final= pd.concat([df_final, item], ignore_index = True)\n",
        "df_final.to_csv(sheet_csv)"
      ]
    },
    {
      "attachments": {},
      "cell_type": "markdown",
      "metadata": {
        "id": "yHYbb61jh-Vo"
      },
      "source": [
        "# Preprocessing\n"
      ]
    },
    {
      "cell_type": "code",
      "execution_count": 6,
      "metadata": {},
      "outputs": [],
      "source": [
        "train = pd.read_csv(sheet_csv, header = 0, index_col=0)\n",
        "index_table = train.columns\n",
        "\n"
      ]
    },
    {
      "cell_type": "code",
      "execution_count": null,
      "metadata": {},
      "outputs": [],
      "source": [
        "def numberNanValues(value, dataframe, col, start, end):\n",
        "    dem = 0\n",
        "    for index in range(start, end):\n",
        "        if dataframe[col][index] == value:\n",
        "            dem +=1\n",
        "    return dem\n",
        "\n",
        "# fill missing data bằng dữ liệu trung bình dịch chuyển\n",
        "# parsing list df\n",
        "def centerMovingAverage():\n",
        "    df_final_clean = pd.DataFrame()\n",
        "    for df_item in df:\n",
        "        row, col = df_item.shape\n",
        "        # parsing features\n",
        "        for item in index_table.values:\n",
        "            for index in range(row):\n",
        "                if index >= 5 and index < row-5:\n",
        "                    avg = sum(df_item[item][index2] for index2 in range(index-5, index+5))/(11- numberNanValues(0,df_item, item,index-5, index+5))\n",
        "                elif index <= 5 :\n",
        "                    avg = sum(df_item[item][index2] for index2 in range(0, 10))/(11- numberNanValues(0,df_item, item,0, 10))\n",
        "                else:\n",
        "                    avg = sum(df_item[item][index2] for index2 in range(row-10, row))/(11- numberNanValues(0,df_item, item,row-10, row))\n",
        "                \n",
        "                if df_item[item][index] == 0: df_item[item][index] = avg\n",
        "        df_final_clean = pd.concat([df_final_clean, df_item], ignore_index=True)\n",
        "    df_final_clean.to_csv(sheet_csv_clean)\n",
        "\n",
        "\n",
        "centerMovingAverage()\n"
      ]
    },
    {
      "cell_type": "code",
      "execution_count": 41,
      "metadata": {},
      "outputs": [],
      "source": [
        "with open(new_pkl_path, \"wb\") as f:\n",
        "    pickle.dump(df, f)"
      ]
    },
    {
      "cell_type": "code",
      "execution_count": null,
      "metadata": {},
      "outputs": [],
      "source": []
    },
    {
      "attachments": {},
      "cell_type": "markdown",
      "metadata": {},
      "source": [
        "# Correlation matrix"
      ]
    },
    {
      "cell_type": "code",
      "execution_count": null,
      "metadata": {},
      "outputs": [],
      "source": [
        "features = index_table.values.remove('Gia KL')"
      ]
    },
    {
      "attachments": {},
      "cell_type": "markdown",
      "metadata": {
        "id": "sJgaM4xrdRaO"
      },
      "source": [
        "# PCA"
      ]
    },
    {
      "cell_type": "code",
      "execution_count": null,
      "metadata": {},
      "outputs": [],
      "source": []
    },
    {
      "attachments": {},
      "cell_type": "markdown",
      "metadata": {
        "id": "CLAwDhh1JQN7"
      },
      "source": [
        "# Cluster"
      ]
    },
    {
      "cell_type": "code",
      "execution_count": null,
      "metadata": {},
      "outputs": [],
      "source": []
    }
  ],
  "metadata": {
    "colab": {
      "provenance": []
    },
    "kernelspec": {
      "display_name": "Python 3",
      "name": "python3"
    },
    "language_info": {
      "codemirror_mode": {
        "name": "ipython",
        "version": 3
      },
      "file_extension": ".py",
      "mimetype": "text/x-python",
      "name": "python",
      "nbconvert_exporter": "python",
      "pygments_lexer": "ipython3",
      "version": "3.11.3"
    }
  },
  "nbformat": 4,
  "nbformat_minor": 0
}
