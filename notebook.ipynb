{
  "cells": [
    {
      "attachments": {},
      "cell_type": "markdown",
      "metadata": {},
      "source": [
        "# Thư viện và path data"
      ]
    },
    {
      "cell_type": "code",
      "execution_count": 2,
      "metadata": {
        "colab": {
          "base_uri": "https://localhost:8080/",
          "height": 198
        },
        "id": "8e1amLvFH30n",
        "outputId": "78def49a-c283-480a-bfae-0cd981b0476c"
      },
      "outputs": [],
      "source": [
        "import pickle \n",
        "import pandas as pd\n",
        "import os \n",
        "\n",
        "sheet_csv = r\"data/df_merged.csv\"\n",
        "sheet_txt = r\"data/df_merged.txt\"\n",
        "pkl_path = r\"data/df_merged.pkl\"\n",
        "sheet_csv_clean = r\"data/df_merged_clean.csv\""
      ]
    },
    {
      "cell_type": "code",
      "execution_count": 13,
      "metadata": {},
      "outputs": [],
      "source": [
        "\n",
        "df = pd.read_pickle(pkl_path)\n",
        "df_final = pd.DataFrame()\n",
        "for item in df:\n",
        "    df_final= pd.concat([df_final, item], ignore_index=True)\n",
        "df_final.to_csv(sheet_csv)"
      ]
    },
    {
      "cell_type": "code",
      "execution_count": null,
      "metadata": {},
      "outputs": [],
      "source": [
        "\n",
        "with open(sheet_txt, 'a') as f:\n",
        "    for item in df:\n",
        "        df_item = item.to_string(header= True, index=False)\n",
        "        f.write(df_item)\n",
        "\n"
      ]
    },
    {
      "attachments": {},
      "cell_type": "markdown",
      "metadata": {
        "id": "yHYbb61jh-Vo"
      },
      "source": [
        "# Preprocessing\n"
      ]
    },
    {
      "cell_type": "code",
      "execution_count": 4,
      "metadata": {},
      "outputs": [],
      "source": [
        "# đếm số lượng nan data trong khoảng của cột dử liệu\n",
        "def numNan(x, dataframe, start, end):\n",
        "    dem = 0\n",
        "    for index in range(start, end):\n",
        "        if dataframe[index] == x:\n",
        "            dem+=1\n",
        "    return dem"
      ]
    },
    {
      "cell_type": "code",
      "execution_count": 14,
      "metadata": {},
      "outputs": [],
      "source": [
        "train = pd.read_csv(sheet_csv, header = 0, index_col=0)\n",
        "index_table = train.columns\n",
        "\n"
      ]
    },
    {
      "cell_type": "code",
      "execution_count": 16,
      "metadata": {},
      "outputs": [],
      "source": [
        "# fill missing data bằng dữ liệu trung bình dịch chuyển\n",
        "# parsing list df\n",
        "df_final_clean = pd.DataFrame()\n",
        "for df_item in df:\n",
        "    row, col = df_item.shape\n",
        "    # parsing features\n",
        "    for item in index_table.values:\n",
        "        for index in range(row):\n",
        "            if index >=5 and index < row-5:\n",
        "                tb = sum(df_item[item][index2] for index2 in range(index-5, index+5))/(11- numNan(0,df_item[item],index-5, index+4))\n",
        "            elif index <= 5 :\n",
        "                tb = sum(df_item[item][index2] for index2 in range(0, 10))/(11- numNan(0,df_item[item],0, 10))\n",
        "            else:\n",
        "                tb = sum(df_item[item][index2] for index2 in range(row-10, row))/(11- numNan(0,df_item[item],row-10, row))\n",
        "            if df_item[item][index] == 0:\n",
        "                df_item[item][index] = tb\n",
        "    df_final_clean = pd.concat([df_final_clean, df_item], ignore_index=True)\n",
        "df_final_clean.to_csv(sheet_csv_clean)\n",
        "\n",
        "\n"
      ]
    },
    {
      "attachments": {},
      "cell_type": "markdown",
      "metadata": {},
      "source": [
        "# Correlation matrix"
      ]
    },
    {
      "cell_type": "code",
      "execution_count": null,
      "metadata": {},
      "outputs": [],
      "source": [
        "features = index_table.values.remove('Gia KL')"
      ]
    },
    {
      "attachments": {},
      "cell_type": "markdown",
      "metadata": {
        "id": "sJgaM4xrdRaO"
      },
      "source": [
        "# PCA"
      ]
    },
    {
      "cell_type": "code",
      "execution_count": null,
      "metadata": {},
      "outputs": [],
      "source": []
    },
    {
      "attachments": {},
      "cell_type": "markdown",
      "metadata": {
        "id": "CLAwDhh1JQN7"
      },
      "source": [
        "# Cluster"
      ]
    },
    {
      "cell_type": "code",
      "execution_count": null,
      "metadata": {},
      "outputs": [],
      "source": []
    }
  ],
  "metadata": {
    "colab": {
      "provenance": []
    },
    "kernelspec": {
      "display_name": "Python 3",
      "name": "python3"
    },
    "language_info": {
      "codemirror_mode": {
        "name": "ipython",
        "version": 3
      },
      "file_extension": ".py",
      "mimetype": "text/x-python",
      "name": "python",
      "nbconvert_exporter": "python",
      "pygments_lexer": "ipython3",
      "version": "3.10.9"
    }
  },
  "nbformat": 4,
  "nbformat_minor": 0
}
